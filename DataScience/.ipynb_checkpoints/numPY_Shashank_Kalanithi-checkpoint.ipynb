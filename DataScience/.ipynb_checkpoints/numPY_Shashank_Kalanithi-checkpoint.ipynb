{
 "cells": [
  {
   "cell_type": "code",
   "execution_count": 11,
   "id": "d7715636",
   "metadata": {},
   "outputs": [
    {
     "name": "stdout",
     "output_type": "stream",
     "text": [
      "[2 3 4]\n"
     ]
    }
   ],
   "source": [
    "import numpy as np\n",
    "\n",
    "a = np.array([2,3,4])\n",
    "print(a)"
   ]
  },
  {
   "cell_type": "code",
   "execution_count": 12,
   "id": "d52123f4",
   "metadata": {},
   "outputs": [
    {
     "name": "stdout",
     "output_type": "stream",
     "text": [
      "[[2 3 4]\n",
      " [5 6 2]]\n"
     ]
    }
   ],
   "source": [
    "c =  np.array([2,3,4,5,6,2]).reshape(2,3)\n",
    "print(c)"
   ]
  },
  {
   "cell_type": "code",
   "execution_count": 13,
   "id": "479e1950",
   "metadata": {},
   "outputs": [
    {
     "name": "stdout",
     "output_type": "stream",
     "text": [
      "[[[2 3]\n",
      "  [4 5]]\n",
      "\n",
      " [[6 2]\n",
      "  [3 5]]]\n"
     ]
    }
   ],
   "source": [
    "d  = np.array([2,3,4,5,6,2,3,5]).reshape(2,2,2)\n",
    "print(d)"
   ]
  },
  {
   "cell_type": "code",
   "execution_count": 18,
   "id": "cfcccd8f",
   "metadata": {},
   "outputs": [
    {
     "name": "stdout",
     "output_type": "stream",
     "text": [
      "21\n",
      "1\n",
      "6\n",
      "3.5\n"
     ]
    }
   ],
   "source": [
    "e = np.array([1,2,3,4,5,6])\n",
    "print(e.sum())\n",
    "print(e.min())\n",
    "print(e.max())\n",
    "print(e.mean())"
   ]
  },
  {
   "cell_type": "code",
   "execution_count": 24,
   "id": "48cbcfd1",
   "metadata": {},
   "outputs": [
    {
     "data": {
      "text/plain": [
       "array([0., 0., 0., 0., 0.])"
      ]
     },
     "execution_count": 24,
     "metadata": {},
     "output_type": "execute_result"
    }
   ],
   "source": [
    "np.zeros(5) #creates a matrix full of zero"
   ]
  },
  {
   "cell_type": "code",
   "execution_count": 20,
   "id": "cb690bb8",
   "metadata": {},
   "outputs": [
    {
     "data": {
      "text/plain": [
       "array([0.        , 0.66666667, 1.33333333, 2.        , 2.66666667,\n",
       "       3.33333333, 4.        , 4.66666667, 5.33333333, 6.        ])"
      ]
     },
     "execution_count": 20,
     "metadata": {},
     "output_type": "execute_result"
    }
   ],
   "source": [
    "np.linspace(0,6,10) # creates anb arary of values from 0 through 6 in  \n",
    "                    # 10 even s paces"
   ]
  },
  {
   "cell_type": "code",
   "execution_count": 21,
   "id": "e6e984be",
   "metadata": {},
   "outputs": [
    {
     "data": {
      "text/plain": [
       "array([0.71502254, 0.14318971, 0.106336  ])"
      ]
     },
     "execution_count": 21,
     "metadata": {},
     "output_type": "execute_result"
    }
   ],
   "source": [
    "np.random.rand(3) # 2 random values between 0 and 1"
   ]
  },
  {
   "cell_type": "code",
   "execution_count": 25,
   "id": "604982f4",
   "metadata": {},
   "outputs": [
    {
     "data": {
      "text/plain": [
       "3814"
      ]
     },
     "execution_count": 25,
     "metadata": {},
     "output_type": "execute_result"
    }
   ],
   "source": [
    "np.random.randint(1,10000) # returns a random int value between 1 \n",
    "                           # and 1000"
   ]
  },
  {
   "cell_type": "code",
   "execution_count": 26,
   "id": "d4ed70d1",
   "metadata": {},
   "outputs": [
    {
     "data": {
      "text/plain": [
       "array([ 0,  1,  2,  3,  4,  5,  6,  7,  8,  9, 10, 11, 12, 13, 14, 15, 16,\n",
       "       17, 18, 19, 20, 21, 22, 23, 24])"
      ]
     },
     "execution_count": 26,
     "metadata": {},
     "output_type": "execute_result"
    }
   ],
   "source": [
    "np.arange(25) # like the \"Range\" function we learned earlier, this is\n",
    "              # gives you a range of integers between  1 - 25"
   ]
  },
  {
   "cell_type": "markdown",
   "id": "91571cbe",
   "metadata": {},
   "source": [
    "## Pandas"
   ]
  },
  {
   "cell_type": "code",
   "execution_count": 27,
   "id": "dfda3e55",
   "metadata": {},
   "outputs": [],
   "source": [
    "import pandas as pd"
   ]
  },
  {
   "cell_type": "code",
   "execution_count": 28,
   "id": "b9d4496d",
   "metadata": {},
   "outputs": [
    {
     "name": "stdout",
     "output_type": "stream",
     "text": [
      "0    1\n",
      "1    2\n",
      "2    3\n",
      "3    6\n",
      "4    7\n",
      "dtype: int64\n"
     ]
    }
   ],
   "source": [
    "series_test = [1,2,3,6,7]\n",
    "print(pd.Series(series_test))"
   ]
  },
  {
   "cell_type": "code",
   "execution_count": null,
   "id": "96440a66",
   "metadata": {},
   "outputs": [],
   "source": []
  }
 ],
 "metadata": {
  "kernelspec": {
   "display_name": "Python 3",
   "language": "python",
   "name": "python3"
  },
  "language_info": {
   "codemirror_mode": {
    "name": "ipython",
    "version": 3
   },
   "file_extension": ".py",
   "mimetype": "text/x-python",
   "name": "python",
   "nbconvert_exporter": "python",
   "pygments_lexer": "ipython3",
   "version": "3.9.4"
  }
 },
 "nbformat": 4,
 "nbformat_minor": 5
}
