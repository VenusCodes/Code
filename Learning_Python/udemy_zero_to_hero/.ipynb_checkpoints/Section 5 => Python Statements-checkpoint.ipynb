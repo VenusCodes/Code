{
 "cells": [
  {
   "cell_type": "code",
   "execution_count": 1,
   "id": "094bb0ce",
   "metadata": {},
   "outputs": [
    {
     "name": "stdout",
     "output_type": "stream",
     "text": [
      "l1\n",
      "l2\n",
      "l3\n"
     ]
    }
   ],
   "source": [
    "d = {'l1':1,'l2':2,'l3':3}\n",
    "\n",
    "for item in d:\n",
    "    print(item) #it only prints the keys"
   ]
  },
  {
   "cell_type": "code",
   "execution_count": 2,
   "id": "65e8ed61",
   "metadata": {},
   "outputs": [
    {
     "name": "stdout",
     "output_type": "stream",
     "text": [
      "('l1', 1)\n",
      "('l2', 2)\n",
      "('l3', 3)\n"
     ]
    }
   ],
   "source": [
    "#to print the keys and its values in for loop from \n",
    "# an dictioinary use {dictionary}.items() to display\n",
    "\n",
    "for item in d.items():\n",
    "    print(item)"
   ]
  },
  {
   "cell_type": "code",
   "execution_count": 3,
   "id": "e7725ec1",
   "metadata": {},
   "outputs": [
    {
     "name": "stdout",
     "output_type": "stream",
     "text": [
      "1\n",
      "2\n",
      "3\n"
     ]
    }
   ],
   "source": [
    "# the other way to do that is \n",
    "for key,value in d.items():\n",
    "    print(value)\n",
    "#and these way we can get different varibales array for keys and values \n",
    "# instead of tuples"
   ]
  },
  {
   "cell_type": "markdown",
   "id": "0f7be56e",
   "metadata": {},
   "source": [
    "## while loops in python\n",
    "\n",
    "use for when you the no. of times u wanna iterate\\\n",
    "and \\\n",
    "use while when you don't know how many times its gonna iterate"
   ]
  },
  {
   "cell_type": "code",
   "execution_count": 4,
   "id": "f5e5963e",
   "metadata": {},
   "outputs": [
    {
     "name": "stdout",
     "output_type": "stream",
     "text": [
      "less than 5 =>0\n",
      "less than 5 =>1\n",
      "less than 5 =>2\n",
      "less than 5 =>3\n",
      "less than 5 =>4\n"
     ]
    }
   ],
   "source": [
    "x = 0\n",
    "\n",
    "while x < 5:\n",
    "    print(\"less than 5 =>\"+str(x))\n",
    "    x +=1"
   ]
  },
  {
   "cell_type": "code",
   "execution_count": 5,
   "id": "1b5bc70a",
   "metadata": {},
   "outputs": [],
   "source": [
    "mystring = 'Sammy'"
   ]
  },
  {
   "cell_type": "code",
   "execution_count": 6,
   "id": "5b40f89b",
   "metadata": {},
   "outputs": [
    {
     "name": "stdout",
     "output_type": "stream",
     "text": [
      "S\n",
      "a\n",
      "m\n",
      "m\n",
      "y\n"
     ]
    }
   ],
   "source": [
    "for letter in mystring:\n",
    "    if letter == 'a':\n",
    "        pass\n",
    "    print(letter)"
   ]
  },
  {
   "cell_type": "code",
   "execution_count": 7,
   "id": "941b8fab",
   "metadata": {},
   "outputs": [
    {
     "name": "stdout",
     "output_type": "stream",
     "text": [
      "0\n",
      "1\n"
     ]
    }
   ],
   "source": [
    "x = 0\n",
    "\n",
    "while  x<5:\n",
    "    if x==2:\n",
    "        break\n",
    "    print(x)\n",
    "    x += 1"
   ]
  },
  {
   "cell_type": "code",
   "execution_count": 8,
   "id": "3fd1b887",
   "metadata": {},
   "outputs": [
    {
     "name": "stdout",
     "output_type": "stream",
     "text": [
      "(0, 'a')\n",
      "(1, 'b')\n",
      "(2, 'c')\n",
      "(3, 'd')\n",
      "(4, 'e')\n"
     ]
    }
   ],
   "source": [
    "#enumearte words\n",
    "\n",
    "word = 'abcde'\n",
    "\n",
    "for item in enumerate(word): # these will  give us a tuple  of the\n",
    "    print(item)              # letter along with its index no. as \n",
    "                             # a tuple"
   ]
  },
  {
   "cell_type": "code",
   "execution_count": 9,
   "id": "02f9231a",
   "metadata": {},
   "outputs": [
    {
     "name": "stdout",
     "output_type": "stream",
     "text": [
      "0 => a\n",
      "1 => b\n",
      "2 => c\n",
      "3 => d\n",
      "4 => e\n"
     ]
    }
   ],
   "source": [
    "for index,letter in enumerate(word): # it creates two list of index no.\n",
    "    print(f\"{index} => {letter}\") # and containing index and its letter\n",
    "                                    # respectively"
   ]
  },
  {
   "cell_type": "code",
   "execution_count": 10,
   "id": "37e1d445",
   "metadata": {},
   "outputs": [],
   "source": [
    "mylist1 = [1,2,3]\n",
    "mylist2 =  ['a','b','c']"
   ]
  },
  {
   "cell_type": "code",
   "execution_count": 11,
   "id": "b561d39d",
   "metadata": {},
   "outputs": [
    {
     "name": "stdout",
     "output_type": "stream",
     "text": [
      "(1, 'a')\n",
      "(2, 'b')\n",
      "(3, 'c')\n"
     ]
    }
   ],
   "source": [
    "for item in zip(mylist1,mylist2): # it zips together the elements into \n",
    "    print(item)                   # a tuple"
   ]
  },
  {
   "cell_type": "code",
   "execution_count": 12,
   "id": "fe36fde8",
   "metadata": {},
   "outputs": [
    {
     "name": "stdout",
     "output_type": "stream",
     "text": [
      "[(1, 'a'), (2, 'b'), (3, 'c')]\n",
      "<class 'list'>\n"
     ]
    }
   ],
   "source": [
    "newlist = list(zip(mylist1,mylist2))\n",
    "print(newlist)\n",
    "print(type(newlist))"
   ]
  },
  {
   "cell_type": "code",
   "execution_count": 13,
   "id": "ffed8a1e",
   "metadata": {},
   "outputs": [
    {
     "data": {
      "text/plain": [
       "True"
      ]
     },
     "execution_count": 13,
     "metadata": {},
     "output_type": "execute_result"
    }
   ],
   "source": [
    "234 in {'mykey':234}.values()"
   ]
  },
  {
   "cell_type": "markdown",
   "id": "0bdd1599",
   "metadata": {},
   "source": [
    "## Random\n",
    "####  Shuffle"
   ]
  },
  {
   "cell_type": "code",
   "execution_count": 14,
   "id": "61b76035",
   "metadata": {},
   "outputs": [],
   "source": [
    "from random import shuffle # need to import these to use the random \n",
    "                           # library"
   ]
  },
  {
   "cell_type": "code",
   "execution_count": 15,
   "id": "8d5cdd26",
   "metadata": {},
   "outputs": [],
   "source": [
    "mylist = [1,2,3,4,5,6,7,8,9,10]"
   ]
  },
  {
   "cell_type": "code",
   "execution_count": 16,
   "id": "f7d73a3a",
   "metadata": {},
   "outputs": [
    {
     "data": {
      "text/plain": [
       "[9, 1, 6, 3, 4, 5, 7, 2, 10, 8]"
      ]
     },
     "execution_count": 16,
     "metadata": {},
     "output_type": "execute_result"
    }
   ],
   "source": [
    "shuffle(mylist) #it shuffles the list but  it doesn't return anything\n",
    "mylist"
   ]
  },
  {
   "cell_type": "code",
   "execution_count": 17,
   "id": "a330328f",
   "metadata": {},
   "outputs": [
    {
     "name": "stdout",
     "output_type": "stream",
     "text": [
      "None\n",
      "<class 'NoneType'>\n"
     ]
    }
   ],
   "source": [
    "random_list = shuffle(mylist)# so these  will return nothing  and \n",
    "                             # random_list will show up as NoneType\n",
    "print(random_list)\n",
    "print(type(random_list))"
   ]
  },
  {
   "cell_type": "markdown",
   "id": "5be2eeaf",
   "metadata": {},
   "source": [
    "#### Randint"
   ]
  },
  {
   "cell_type": "code",
   "execution_count": 18,
   "id": "00661903",
   "metadata": {},
   "outputs": [],
   "source": [
    "from  random import randint"
   ]
  },
  {
   "cell_type": "code",
   "execution_count": 19,
   "id": "25edba98",
   "metadata": {},
   "outputs": [
    {
     "data": {
      "text/plain": [
       "44"
      ]
     },
     "execution_count": 19,
     "metadata": {},
     "output_type": "execute_result"
    }
   ],
   "source": [
    "randint(0,100) # will return an integer between 0 and 100 "
   ]
  },
  {
   "cell_type": "code",
   "execution_count": 20,
   "id": "da3bea20",
   "metadata": {},
   "outputs": [
    {
     "name": "stdout",
     "output_type": "stream",
     "text": [
      "89\n",
      "<class 'int'>\n"
     ]
    }
   ],
   "source": [
    "#since randint returns a random integer, it can be assigned\n",
    "# Therefore\n",
    "mynum = randint(0,100)\n",
    "print(mynum)\n",
    "print(type(mynum))"
   ]
  },
  {
   "cell_type": "markdown",
   "id": "20c6155a",
   "metadata": {},
   "source": [
    "### List Comprehensions"
   ]
  },
  {
   "cell_type": "code",
   "execution_count": 21,
   "id": "cd566bdf",
   "metadata": {},
   "outputs": [],
   "source": [
    "mystring = 'hello'"
   ]
  },
  {
   "cell_type": "code",
   "execution_count": 25,
   "id": "9a17cf22",
   "metadata": {},
   "outputs": [
    {
     "name": "stdout",
     "output_type": "stream",
     "text": [
      "h e l l o\n"
     ]
    }
   ],
   "source": [
    "mylist = []\n",
    "\n",
    "for letter in mystring:\n",
    "    mylist.append(letter)\n",
    "    \n",
    "print(*mylist)"
   ]
  },
  {
   "cell_type": "code",
   "execution_count": 30,
   "id": "ef3518f3",
   "metadata": {},
   "outputs": [],
   "source": [
    "mylist = []"
   ]
  },
  {
   "cell_type": "code",
   "execution_count": 31,
   "id": "f1f14753",
   "metadata": {},
   "outputs": [
    {
     "name": "stdout",
     "output_type": "stream",
     "text": [
      "h e l l o\n"
     ]
    }
   ],
   "source": [
    "mylist = [letter for letter in mystring]\n",
    "print(*mylist)"
   ]
  },
  {
   "cell_type": "code",
   "execution_count": 33,
   "id": "1fee2f7f",
   "metadata": {},
   "outputs": [
    {
     "name": "stdout",
     "output_type": "stream",
     "text": [
      "v e n u s   p a n e l i y a\n"
     ]
    }
   ],
   "source": [
    "mylist = [x for x in 'venus paneliya']\n",
    "print(*mylist)"
   ]
  },
  {
   "cell_type": "code",
   "execution_count": 36,
   "id": "58106951",
   "metadata": {},
   "outputs": [
    {
     "name": "stdout",
     "output_type": "stream",
     "text": [
      "0 1 4 9 16 25 36 49 64 81 100\n"
     ]
    }
   ],
   "source": [
    "mylist = [x**2 for x in range(0,11)]\n",
    "print(*mylist)"
   ]
  },
  {
   "cell_type": "code",
   "execution_count": 38,
   "id": "4e24f821",
   "metadata": {},
   "outputs": [
    {
     "name": "stdout",
     "output_type": "stream",
     "text": [
      "0 2 4 6 8 10\n"
     ]
    }
   ],
   "source": [
    "mylist = [x for x in range(0,11) if x%2==0]\n",
    "print(*mylist)"
   ]
  },
  {
   "cell_type": "code",
   "execution_count": 40,
   "id": "e9499f71",
   "metadata": {},
   "outputs": [
    {
     "name": "stdout",
     "output_type": "stream",
     "text": [
      "0 10 20 34.5\n",
      "32 50 68 94\n"
     ]
    }
   ],
   "source": [
    "celcius = [0,10,20,34.5]\n",
    "\n",
    "fahrenheit = [int(((9/5)*temp + 32)) for temp in celcius]\n",
    "\n",
    "print(*celcius)\n",
    "print(*fahrenheit)"
   ]
  },
  {
   "cell_type": "code",
   "execution_count": 42,
   "id": "27c6d91b",
   "metadata": {},
   "outputs": [
    {
     "name": "stdout",
     "output_type": "stream",
     "text": [
      "0 ODD 2 ODD 4 ODD 6 ODD 8 ODD 10\n"
     ]
    }
   ],
   "source": [
    "# how to use if and else statement inside list comprehension\n",
    "\n",
    "results = [ x if x%2==0 else 'ODD' for x in range(0,11)]\n",
    "\n",
    "print(*results)"
   ]
  },
  {
   "cell_type": "code",
   "execution_count": 45,
   "id": "4b723634",
   "metadata": {},
   "outputs": [
    {
     "name": "stdout",
     "output_type": "stream",
     "text": [
      "2 20 2000 4 40 4000 6 60 6000\n"
     ]
    }
   ],
   "source": [
    "#nested loops in list comprehension\n",
    "mylist = []\n",
    "\n",
    "for x in[2,4,6]:\n",
    "    for y in [1,10,1000]:\n",
    "        mylist.append(x*y)\n",
    "\n",
    "print(*mylist)"
   ]
  },
  {
   "cell_type": "code",
   "execution_count": 46,
   "id": "df992ad6",
   "metadata": {},
   "outputs": [],
   "source": [
    "mylist = []"
   ]
  },
  {
   "cell_type": "code",
   "execution_count": 47,
   "id": "94938112",
   "metadata": {},
   "outputs": [
    {
     "name": "stdout",
     "output_type": "stream",
     "text": [
      "2 20 2000 4 40 4000 6 60 6000\n"
     ]
    }
   ],
   "source": [
    "mylist = [x*y for x in [2,4,6] for y in [1,10,1000]]\n",
    "\n",
    "print(*mylist)"
   ]
  },
  {
   "cell_type": "code",
   "execution_count": null,
   "id": "667f7db0",
   "metadata": {},
   "outputs": [],
   "source": []
  }
 ],
 "metadata": {
  "kernelspec": {
   "display_name": "Python 3",
   "language": "python",
   "name": "python3"
  },
  "language_info": {
   "codemirror_mode": {
    "name": "ipython",
    "version": 3
   },
   "file_extension": ".py",
   "mimetype": "text/x-python",
   "name": "python",
   "nbconvert_exporter": "python",
   "pygments_lexer": "ipython3",
   "version": "3.9.4"
  }
 },
 "nbformat": 4,
 "nbformat_minor": 5
}
