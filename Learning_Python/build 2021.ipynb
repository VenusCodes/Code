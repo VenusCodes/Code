{
 "cells": [
  {
   "cell_type": "code",
   "execution_count": 3,
   "id": "941d0b48",
   "metadata": {},
   "outputs": [],
   "source": [
    "def DispGreeting():\n",
    "    name = input('What\\'s ur name?')\n",
    "    print('Hello, '+name+'!')"
   ]
  },
  {
   "cell_type": "code",
   "execution_count": 4,
   "id": "3ff1aba0",
   "metadata": {},
   "outputs": [
    {
     "name": "stdout",
     "output_type": "stream",
     "text": [
      "What's ur name?Venus\n",
      "Hello, Venus!\n"
     ]
    }
   ],
   "source": [
    "DispGreeting()"
   ]
  },
  {
   "cell_type": "code",
   "execution_count": null,
   "id": "e1821817",
   "metadata": {},
   "outputs": [],
   "source": []
  }
 ],
 "metadata": {
  "kernelspec": {
   "display_name": "Python 3",
   "language": "python",
   "name": "python3"
  },
  "language_info": {
   "codemirror_mode": {
    "name": "ipython",
    "version": 3
   },
   "file_extension": ".py",
   "mimetype": "text/x-python",
   "name": "python",
   "nbconvert_exporter": "python",
   "pygments_lexer": "ipython3",
   "version": "3.8.5"
  }
 },
 "nbformat": 4,
 "nbformat_minor": 5
}
